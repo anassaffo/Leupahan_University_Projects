{
  "nbformat": 4,
  "nbformat_minor": 0,
  "metadata": {
    "colab": {
      "name": "simulated_annealing_and_local_search.ipynb",
      "provenance": [],
      "collapsed_sections": [],
      "toc_visible": true,
      "authorship_tag": "ABX9TyO8UlO7bJy5XxfDI/y9vNih",
      "include_colab_link": true
    },
    "kernelspec": {
      "name": "python3",
      "display_name": "Python 3"
    },
    "language_info": {
      "name": "python"
    }
  },
  "cells": [
    {
      "cell_type": "markdown",
      "metadata": {
        "id": "view-in-github",
        "colab_type": "text"
      },
      "source": [
        "<a href=\"https://colab.research.google.com/github/anassaffo/Leupahan_University_Projects/blob/main/simulated_annealing_and_local_search_Simualted_Data.ipynb\" target=\"_parent\"><img src=\"https://colab.research.google.com/assets/colab-badge.svg\" alt=\"Open In Colab\"/></a>"
      ]
    },
    {
      "cell_type": "markdown",
      "metadata": {
        "id": "U-qxl5GGvrHQ"
      },
      "source": [
        "# Loading Packages"
      ]
    },
    {
      "cell_type": "code",
      "metadata": {
        "id": "gqdE-nLQvpRt"
      },
      "source": [
        "from random import randint\n",
        "import random\n",
        "from math import exp\n",
        "from math import log\n",
        "import pdb\n",
        "import random "
      ],
      "execution_count": null,
      "outputs": []
    },
    {
      "cell_type": "markdown",
      "metadata": {
        "id": "SdFp5Plzvy7_"
      },
      "source": [
        "# Defining Simualted Annealing"
      ]
    },
    {
      "cell_type": "code",
      "metadata": {
        "id": "qnJJNOs7kR8j"
      },
      "source": [
        "class minimize():\n",
        "    '''Simple Simulated Annealing\n",
        "    '''\n",
        "\n",
        "    def __init__(self, func, x0, opt_mode, find_neigbour_solution, cooling_schedule='linear', step_max=1000, t_min=0, t_max=100, bounds=[], alpha=None, damping=1):\n",
        "\n",
        "        # checks\n",
        "        assert opt_mode in ['combinatorial','continuous'], 'opt_mode must be either \"combinatorial\" or \"continuous\"'\n",
        "        assert cooling_schedule in ['linear','exponential','logarithmic', 'quadratic'], 'cooling_schedule must be either \"linear\", \"exponential\", \"logarithmic\", or \"quadratic\"'\n",
        "\n",
        "        self.find_neigbour_solution = find_neigbour_solution\n",
        "\n",
        "        # initialize starting conditions\n",
        "        self.t = t_max\n",
        "        self.t_max = t_max\n",
        "        self.t_min = t_min\n",
        "        self.step_max = step_max\n",
        "        self.opt_mode = opt_mode\n",
        "        self.hist = []\n",
        "        self.cooling_schedule = cooling_schedule\n",
        "\n",
        "        self.cost_func = func\n",
        "        self.x0 = x0\n",
        "        self.bounds = bounds[:]\n",
        "        self.damping = damping\n",
        "        self.current_state = self.x0\n",
        "        self.current_energy = func(self.x0)\n",
        "        self.best_state = self.current_state\n",
        "        self.best_energy = self.current_energy\n",
        "\n",
        "\n",
        "        # initialize optimization scheme\n",
        "        if self.opt_mode == 'combinatorial': self.get_neighbor = self.move_combinatorial\n",
        "        if self.opt_mode == 'continuous': self.get_neighbor = self.move_continuous\n",
        "\n",
        "\n",
        "        # initialize cooling schedule\n",
        "        if self.cooling_schedule == 'linear':\n",
        "            if alpha != None:\n",
        "                self.update_t = self.cooling_linear_m\n",
        "                self.cooling_schedule = 'linear multiplicative cooling'\n",
        "                self.alpha = alpha\n",
        "\n",
        "            if alpha == None:\n",
        "                self.update_t = self.cooling_linear_a\n",
        "                self.cooling_schedule = 'linear additive cooling'\n",
        "\n",
        "        if self.cooling_schedule == 'quadratic':\n",
        "            if alpha != None:\n",
        "                self.update_t = self.cooling_quadratic_m\n",
        "                self.cooling_schedule = 'quadratic multiplicative cooling'\n",
        "                self.alpha = alpha\n",
        "\n",
        "            if alpha == None:\n",
        "                self.update_t = self.cooling_quadratic_a\n",
        "                self.cooling_schedule = 'quadratic additive cooling'\n",
        "\n",
        "        if self.cooling_schedule == 'exponential':\n",
        "            if alpha == None: self.alpha =  0.8\n",
        "            else: self.alpha = alpha\n",
        "            self.update_t = self.cooling_exponential\n",
        "\n",
        "        if self.cooling_schedule == 'logarithmic':\n",
        "            if alpha == None: self.alpha =  0.8\n",
        "            else: self.alpha = alpha\n",
        "            self.update_t = self.cooling_logarithmic\n",
        "\n",
        "\n",
        "        # begin optimizing\n",
        "        self.step, self.accept = 1, 0\n",
        "        while self.step < self.step_max and self.t >= self.t_min and self.t>0:\n",
        "            # get neighbor\n",
        "            proposed_neighbor = self.get_neighbor()\n",
        "\n",
        "            # check energy level of neighbor\n",
        "            E_n = self.cost_func(proposed_neighbor)\n",
        "            dE = -(E_n - self.current_energy)\n",
        "                       \n",
        "            # pdb.set_trace()\n",
        "\n",
        "            # determine if we should accept the current neighbor\n",
        "            if random.random() < self.safe_exp(-dE / self.t):\n",
        "                self.current_energy = E_n\n",
        "                self.current_state = proposed_neighbor[:]\n",
        "                self.accept += 1\n",
        "\n",
        "            # check if the current neighbor is best solution so far\n",
        "            if E_n > self.best_energy:\n",
        "                self.best_energy = E_n\n",
        "                self.best_state = proposed_neighbor[:]\n",
        "\n",
        "            # persist some info for later\n",
        "            self.hist.append([\n",
        "                self.step,\n",
        "                self.t,\n",
        "                self.current_energy,\n",
        "                self.best_energy])\n",
        "\n",
        "            # update some stuff\n",
        "            self.t = self.update_t(self.step)\n",
        "            self.step += 1\n",
        "\n",
        "        # generate some final stats\n",
        "        self.acceptance_rate = self.accept / self.step\n",
        "\n",
        "\n",
        "    def move_continuous(self):\n",
        "        # preturb current state by a random amount\n",
        "        neighbor = [item + ((random() - 0.5) * self.damping) for item in self.current_state]\n",
        "\n",
        "        # clip to upper and lower bounds\n",
        "        if self.bounds:\n",
        "            for i in range(len(neighbor)):\n",
        "                x_min, x_max = self.bounds[i]\n",
        "                neighbor[i] = min(max(neighbor[i], x_min), x_max)\n",
        "\n",
        "        return neighbor\n",
        "\n",
        "\n",
        "    def move_combinatorial(self):\n",
        "        '''Swaps two random nodes along path\n",
        "        Not the most efficient, but it does the job...\n",
        "        '''\n",
        "        # p0 = randint(0, len(self.current_state)-1)\n",
        "        # p1 = randint(0, len(self.current_state)-1)\n",
        "\n",
        "        # neighbor = self.current_state[:]\n",
        "        # neighbor[p0], neighbor[p1] = neighbor[p1], neighbor[p0]\n",
        "\n",
        "        neighbor = find_neigbour_solution(self.current_state)\n",
        "\n",
        "        return neighbor\n",
        "\n",
        "\n",
        "    def results(self):\n",
        "        print('+------------------------ RESULTS -------------------------+\\n')\n",
        "        print(f'      opt.mode: {self.opt_mode}')\n",
        "        print(f'cooling sched.: {self.cooling_schedule}')\n",
        "        if self.damping != 1: print(f'       damping: {self.damping}\\n')\n",
        "        else: print('\\n')\n",
        "\n",
        "        print(f'  initial temp: {self.t_max}')\n",
        "        print(f'    final temp: {self.t:0.6f}')\n",
        "        print(f'     max steps: {self.step_max}')\n",
        "        print(f'    final step: {self.step}\\n')\n",
        "        print(f'    final solution: {self.best_state}\\n')\n",
        "\n",
        "        print(f'  final energy: {self.best_energy:0.6f}\\n')\n",
        "        print('+-------------------------- END ---------------------------+')\n",
        "\n",
        "    # linear multiplicative cooling\n",
        "    def cooling_linear_m(self, step):\n",
        "        return self.t_max /  (1 + self.alpha * step)\n",
        "\n",
        "    # linear additive cooling\n",
        "    def cooling_linear_a(self, step):\n",
        "        return self.t_min + (self.t_max - self.t_min) * ((self.step_max - step)/self.step_max)\n",
        "\n",
        "    # quadratic multiplicative cooling\n",
        "    def cooling_quadratic_m(self, step):\n",
        "        return self.t_min / (1 + self.alpha * step**2)\n",
        "\n",
        "    # quadratic additive cooling\n",
        "    def cooling_quadratic_a(self, step):\n",
        "        return self.t_min + (self.t_max - self.t_min) * ((self.step_max - step)/self.step_max)**2\n",
        "\n",
        "    # exponential multiplicative cooling\n",
        "    def cooling_exponential_m(self, step):\n",
        "        return self.t_max * self.alpha**step\n",
        "\n",
        "    # logarithmical multiplicative cooling\n",
        "    def cooling_logarithmic_m(self, step):\n",
        "        return self.t_max / (self.alpha * log(step + 1))\n",
        "\n",
        "\n",
        "    def safe_exp(self, x):\n",
        "        try: return exp(x)\n",
        "        except: return 0"
      ],
      "execution_count": null,
      "outputs": []
    },
    {
      "cell_type": "markdown",
      "metadata": {
        "id": "WzHr1sYuv2TU"
      },
      "source": [
        "# Defining Local Search:"
      ]
    },
    {
      "cell_type": "code",
      "metadata": {
        "id": "ogTou9od2jvT"
      },
      "source": [
        "class LocalSearch():\n",
        "    '''Simple Local Search\n",
        "    '''\n",
        "\n",
        "    def __init__(self, func, x0, find_neigbour_solution, step_max=1000):\n",
        "\n",
        "        \n",
        "        self.find_neigbour_solution = find_neigbour_solution\n",
        "\n",
        "        # initialize starting conditions\n",
        "    \n",
        "        self.step_max = step_max\n",
        "\n",
        "        self.cost_func = func\n",
        "        self.get_neighbor = self.move_combinatorial\n",
        "        self.x0 = x0\n",
        "        \n",
        "        self.current_state = self.x0\n",
        "        self.current_energy = func(self.x0)\n",
        "        self.best_state = self.current_state\n",
        "        self.best_energy = self.current_energy\n",
        "\n",
        "        # begin optimizing\n",
        "        self.step, self.accept = 1, 0\n",
        "        while self.step < self.step_max:\n",
        "            # get neighbor\n",
        "            proposed_neighbor = self.get_neighbor()\n",
        "\n",
        "            # check energy level of neighbor\n",
        "            E_n = self.cost_func(proposed_neighbor)\n",
        "            dE = -(E_n - self.current_energy)\n",
        "                       \n",
        "\n",
        "            # determine if we should accept the current neighbor\n",
        "            if dE > 0:\n",
        "                self.current_energy = E_n\n",
        "                self.current_state = proposed_neighbor[:]\n",
        "                self.accept += 1\n",
        "\n",
        "            # check if the current neighbor is best solution so far\n",
        "            if E_n > self.best_energy:\n",
        "                self.best_energy = E_n\n",
        "                self.best_state = proposed_neighbor[:]\n",
        "\n",
        "            # update some stuff\n",
        "            self.step += 1\n",
        "\n",
        "        # generate some final stats\n",
        "        self.acceptance_rate = self.accept / self.step\n",
        "\n",
        "\n",
        "    def move_combinatorial(self):\n",
        "        neighbor = find_neigbour_solution(self.current_state)\n",
        "        return neighbor\n",
        "\n",
        "\n",
        "    def results(self):\n",
        "        print('+------------------------ RESULTS -------------------------+\\n')\n",
        "  \n",
        "        print(f'    max steps: {self.step_max}')\n",
        "        print(f'    final step: {self.step}\\n')\n",
        "        print(f'    final solution: {self.best_state}\\n')\n",
        "\n",
        "        print(f'  final energy: {self.best_energy:0.6f}\\n')\n",
        "        print('+-------------------------- END ---------------------------+')\n"
      ],
      "execution_count": null,
      "outputs": []
    },
    {
      "cell_type": "markdown",
      "metadata": {
        "id": "NXqnl0quwFYY"
      },
      "source": [
        "# Functions: "
      ]
    },
    {
      "cell_type": "code",
      "metadata": {
        "id": "eFYjjUq5wHqe"
      },
      "source": [
        "def get_solution_weight(solution):\n",
        "  return sum([data[item][\"wt\"] for item in solution])\n",
        "\n",
        "def get_solution_value(solution):\n",
        "  return sum([data[item][\"val\"] for item in solution])\n",
        "\n",
        "def gen_init_solution(data):\n",
        "  solution_0 = []\n",
        "  total_w = 0\n",
        "  # get the items in the data:\n",
        "  items = list(data.keys())\n",
        "  # weight constraint:\n",
        "  while total_w <= max_w:\n",
        "    # select a random item:\n",
        "    selected_item = random.choice(items)\n",
        "    # get the weight from the data:\n",
        "    item_weight = data[selected_item][\"wt\"]\n",
        "    # keeping the weight constraint with update:\n",
        "    if total_w + item_weight <= max_w:\n",
        "      total_w += item_weight\n",
        "      solution_0 += [selected_item]\n",
        "      items.remove(selected_item)\n",
        "    else:\n",
        "      break\n",
        "  return solution_0\n",
        "\n",
        "def find_neigbour_solution(solution):\n",
        "  solution = solution.copy()\n",
        "  # your data without the solution:\n",
        "  remaining = list(set(data.keys()) - set(solution)) \n",
        "  solution_weight = get_solution_weight(solution)\n",
        "\n",
        "  # randomly select an item in the solution to remove:\n",
        "  to_remove = random.choice(solution) \n",
        "  to_remove_weight = get_solution_weight([to_remove])\n",
        "  # randomly select an item in the solution to add:\n",
        "  to_add = random.choice(remaining) \n",
        "  to_add_weight = get_solution_weight([to_add])\n",
        "  # weight constraint with update:\n",
        "  if solution_weight + to_add_weight - to_remove_weight <= max_w and to_add not in solution:\n",
        "    solution_weight += to_add_weight - to_remove_weight\n",
        "    solution.remove(to_remove) \n",
        "    solution += [to_add]\n",
        "\n",
        "  # weight constraint:\n",
        "  if solution_weight <= max_w:\n",
        "    # add a random item in the remaining:\n",
        "    to_add = random.choice(remaining)\n",
        "    to_add_weight = get_solution_weight([to_add])\n",
        "    # repeat the weight constraint and update:\n",
        "    if solution_weight + to_add_weight <= max_w and to_add not in solution:\n",
        "      solution_weight += to_add_weight\n",
        "      solution += [to_add]\n",
        "\n",
        "  return solution"
      ],
      "execution_count": null,
      "outputs": []
    },
    {
      "cell_type": "markdown",
      "metadata": {
        "id": "yXfKtI2twTaW"
      },
      "source": [
        "# Simualted Data: (Knapsack Problem)"
      ]
    },
    {
      "cell_type": "code",
      "metadata": {
        "colab": {
          "base_uri": "https://localhost:8080/"
        },
        "id": "D4FrmJvIprsr",
        "outputId": "19fb3cd0-9dec-445d-bb00-a61947f8d634"
      },
      "source": [
        "# values of each item:\n",
        "val = [60, 121, 120, 23, 123, 54]\n",
        "# weights of each item:\n",
        "wt = [10, 20, 30, 43, 4, 12]\n",
        "# the constraints:\n",
        "max_w = 50\n",
        "n = len(val)\n",
        "# create the dataset:\n",
        "data = {idx: {\"val\": v, \"wt\": w} for idx, (v, w) in enumerate(zip(val, wt))}\n",
        "data\n"
      ],
      "execution_count": null,
      "outputs": [
        {
          "output_type": "execute_result",
          "data": {
            "text/plain": [
              "{0: {'val': 60, 'wt': 10},\n",
              " 1: {'val': 121, 'wt': 20},\n",
              " 2: {'val': 120, 'wt': 30},\n",
              " 3: {'val': 23, 'wt': 43},\n",
              " 4: {'val': 123, 'wt': 4},\n",
              " 5: {'val': 54, 'wt': 12}}"
            ]
          },
          "metadata": {
            "tags": []
          },
          "execution_count": 8
        }
      ]
    },
    {
      "cell_type": "markdown",
      "metadata": {
        "id": "CH_vibhjy5qi"
      },
      "source": [
        "## find an initial solution:"
      ]
    },
    {
      "cell_type": "code",
      "metadata": {
        "colab": {
          "base_uri": "https://localhost:8080/"
        },
        "id": "FbCSm08JqSnW",
        "outputId": "cc34c481-327b-44f7-b9ae-db2414ec03ce"
      },
      "source": [
        "solution_0 = gen_init_solution(data)\n",
        "print(solution_0, get_solution_value(solution))"
      ],
      "execution_count": null,
      "outputs": [
        {
          "output_type": "stream",
          "text": [
            "[1, 0, 4] 241\n"
          ],
          "name": "stdout"
        }
      ]
    },
    {
      "cell_type": "markdown",
      "metadata": {
        "id": "1WeP-QetzHX2"
      },
      "source": [
        "## find a neighbour solution:"
      ]
    },
    {
      "cell_type": "code",
      "metadata": {
        "colab": {
          "base_uri": "https://localhost:8080/"
        },
        "id": "b8SE7ENZrIhQ",
        "outputId": "abf27c6e-37a1-48ec-d398-816d10ec27ea"
      },
      "source": [
        "solution = find_neigbour_solution(solution_0)\n",
        "print(solution, get_solution_value(solution))\n"
      ],
      "execution_count": null,
      "outputs": [
        {
          "output_type": "stream",
          "text": [
            "[1, 0, 4] 304\n"
          ],
          "name": "stdout"
        }
      ]
    },
    {
      "cell_type": "markdown",
      "metadata": {
        "id": "OIpSkM1yzLnI"
      },
      "source": [
        "## Simulated Annealing:"
      ]
    },
    {
      "cell_type": "code",
      "metadata": {
        "colab": {
          "base_uri": "https://localhost:8080/"
        },
        "id": "BwaAQ3xttcq9",
        "outputId": "f61f86bd-40c9-463a-9103-24e1e7a9edc6"
      },
      "source": [
        "sa_minimizer = minimize(get_solution_value,\n",
        "                        solution, opt_mode=\"combinatorial\", find_neigbour_solution=find_neigbour_solution,\n",
        "                        step_max=10000, t_min=0, t_max=1000, bounds=[], alpha=None, damping=1)\n",
        "sa_minimizer.results()"
      ],
      "execution_count": null,
      "outputs": [
        {
          "output_type": "stream",
          "text": [
            "+------------------------ RESULTS -------------------------+\n",
            "\n",
            "      opt.mode: combinatorial\n",
            "cooling sched.: linear additive cooling\n",
            "\n",
            "\n",
            "  initial temp: 1000\n",
            "    final temp: 0.100000\n",
            "     max steps: 10000\n",
            "    final step: 10000\n",
            "\n",
            "    final solution: [4, 5, 0, 1]\n",
            "\n",
            "  final energy: 358.000000\n",
            "\n",
            "+-------------------------- END ---------------------------+\n"
          ],
          "name": "stdout"
        }
      ]
    },
    {
      "cell_type": "markdown",
      "metadata": {
        "id": "U8HG-9K3zTGL"
      },
      "source": [
        "## local Search:"
      ]
    },
    {
      "cell_type": "code",
      "metadata": {
        "colab": {
          "base_uri": "https://localhost:8080/"
        },
        "id": "sMD6huvF3hos",
        "outputId": "d2a53d7c-2f92-4af9-9e59-417d87fc60f9"
      },
      "source": [
        "solution = gen_init_solution(data)\n",
        "local_search_minimizer = LocalSearch(get_solution_value,\n",
        "                        solution, find_neigbour_solution=find_neigbour_solution,\n",
        "                        step_max=10000)\n",
        "local_search_minimizer.results()"
      ],
      "execution_count": null,
      "outputs": [
        {
          "output_type": "stream",
          "text": [
            "+------------------------ RESULTS -------------------------+\n",
            "\n",
            "    max steps: 10000\n",
            "    final step: 10000\n",
            "\n",
            "    final solution: [0, 4, 1]\n",
            "\n",
            "  final energy: 304.000000\n",
            "\n",
            "+-------------------------- END ---------------------------+\n"
          ],
          "name": "stdout"
        }
      ]
    },
    {
      "cell_type": "markdown",
      "metadata": {
        "id": "IeLUcjaBzV6F"
      },
      "source": [
        "## Itterative Local Search:"
      ]
    },
    {
      "cell_type": "code",
      "metadata": {
        "colab": {
          "base_uri": "https://localhost:8080/"
        },
        "id": "ZkWMHXRM4_Hw",
        "outputId": "b28ef22e-47c3-45de-d208-a95842a4d942"
      },
      "source": [
        "# generate multiple solutions:\n",
        "solution = gen_init_solution(data)\n",
        "solution = find_neigbour_solution(solution)\n",
        "solution = find_neigbour_solution(solution)\n",
        "local_search_minimizer = LocalSearch(get_solution_value,\n",
        "                        solution, find_neigbour_solution=find_neigbour_solution,\n",
        "                        step_max=10000)\n",
        "local_search_minimizer.results()"
      ],
      "execution_count": null,
      "outputs": [
        {
          "output_type": "stream",
          "text": [
            "+------------------------ RESULTS -------------------------+\n",
            "\n",
            "    max steps: 10000\n",
            "    final step: 10000\n",
            "\n",
            "    final solution: [4, 0, 1, 5]\n",
            "\n",
            "  final energy: 358.000000\n",
            "\n",
            "+-------------------------- END ---------------------------+\n"
          ],
          "name": "stdout"
        }
      ]
    }
  ]
}