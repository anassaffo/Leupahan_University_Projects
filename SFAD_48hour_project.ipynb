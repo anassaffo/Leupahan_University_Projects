{
 "cells": [
  {
   "cell_type": "markdown",
   "id": "legal-maker",
   "metadata": {},
   "source": [
    "*Analysing Worldwide food/feed production between the years 1961 - 2013*\n",
    "\n",
    "\n",
    "**Author:** Anas Suffo\n"
   ]
  },
  {
   "cell_type": "markdown",
   "id": "institutional-cocktail",
   "metadata": {},
   "source": [
    "# Introduction\n",
    "\n"
   ]
  },
  {
   "cell_type": "markdown",
   "id": "coordinated-rainbow",
   "metadata": {},
   "source": [
    "# Libraries\n",
    "\n",
    "## following are the libraries needed for analysing the dataset:"
   ]
  },
  {
   "cell_type": "code",
   "execution_count": 1,
   "id": "frank-contrast",
   "metadata": {},
   "outputs": [
    {
     "name": "stderr",
     "output_type": "stream",
     "text": [
      "\n",
      "Attaching package: 'dplyr'\n",
      "\n",
      "\n",
      "The following objects are masked from 'package:stats':\n",
      "\n",
      "    filter, lag\n",
      "\n",
      "\n",
      "The following objects are masked from 'package:base':\n",
      "\n",
      "    intersect, setdiff, setequal, union\n",
      "\n",
      "\n",
      "### Welcome to rworldmap ###\n",
      "\n",
      "For a short introduction type : \t vignette('rworldmap')\n",
      "\n",
      "Registered S3 method overwritten by 'quantmod':\n",
      "  method            from\n",
      "  as.zoo.data.frame zoo \n",
      "\n"
     ]
    }
   ],
   "source": [
    "library(ggplot2)\n",
    "library(dplyr)\n",
    "library(tidyr)\n",
    "library(stringr)\n",
    "library(tibble)\n",
    "library(forcats)\n",
    "library(sp)\n",
    "library(rworldmap)\n",
    "library(cowplot)\n",
    "library(forecast)"
   ]
  },
  {
   "cell_type": "markdown",
   "id": "figured-coalition",
   "metadata": {},
   "source": [
    "# Data Import\n",
    "\n",
    "The dataset as illustrated in the Readme file is constructed of information about the amount of production for each country in the period between 1961 and 2013. Two main kinds of production: food and feed. Food: refers to the total amount of the food item available as human food during the reference period. Feed: "
   ]
  },
  {
   "cell_type": "code",
   "execution_count": 2,
   "id": "under-second",
   "metadata": {},
   "outputs": [],
   "source": [
    "fao <- read.csv(\"C:/Users/Anas Suffo/OneDrive/R/data/48hrSfAD/48hourSfAD/FAO.csv\")"
   ]
  },
  {
   "cell_type": "markdown",
   "id": "subject-quantum",
   "metadata": {},
   "source": [
    "The dataset has 21477 observations and 63 variables, where we have details of Food and Feed production by country from 1961 to 2013, including geocoding of Countries. The Element code describes the code given to Food(5142) and Feed(5521) and all the measurements are in 1000 tonnes. We have different Food and Feed items and their codes such as wheat & products, barley & products, maize & products, bananas, grapes and so on"
   ]
  },
  {
   "cell_type": "code",
   "execution_count": 3,
   "id": "positive-planning",
   "metadata": {
    "jupyter": {
     "source_hidden": true
    }
   },
   "outputs": [],
   "source": [
    "colnames(fao)[1] <- \"Area_Abb\"\n",
    "colnames(fao)[2] <- \"Area_Code\"\n",
    "colnames(fao)[3] <- \"Area\"\n",
    "colnames(fao)[4] <- \"Item_Code\"\n",
    "colnames(fao)[5] <- \"Item\"\n",
    "colnames(fao)[6] <- \"Element_Code\"\n",
    "colnames(fao)[7] <- \"Element\"\n",
    "\n",
    "fao_sel <- fao[,-c(2,4,6,8,9,10)]\n",
    "\n",
    "fao_gath <- fao_sel %>% \n",
    "    gather(Year, Production, Y1961:Y2013, na.rm = TRUE) %>% \n",
    "    group_by(Area_Abb,Element) %>%\n",
    "    mutate(Year = stringr::str_remove(Year, \"Y\"))"
   ]
  },
  {
   "cell_type": "code",
   "execution_count": 4,
   "id": "portable-correspondence",
   "metadata": {
    "jupyter": {
     "source_hidden": true
    }
   },
   "outputs": [
    {
     "data": {
      "image/png": "[encoded data removed]",
      "text/plain": [
       "plot without title"
      ]
     },
     "metadata": {
      "image/png": {
       "height": 420,
       "width": 420
      }
     },
     "output_type": "display_data"
    }
   ],
   "source": [
    "# to see how many missing values there are in each year:\n",
    "fao_sel %>% \n",
    "    gather(Year, Production, Y1961:Y2013) %>% \n",
    "    filter(is.na(Production)) %>% \n",
    "    group_by(Year)%>% tally() %>%\n",
    "    mutate(Year = stringr::str_remove(Year, \"Y\")) %>%\n",
    "    ggplot(aes(Year,n))+\n",
    "    geom_col(fill = \"lightgreen\")+\n",
    "    theme(axis.text.x = element_text(size=6, angle=90),\n",
    "          panel.background = element_blank())+\n",
    "    geom_text(aes(label = sprintf(\"%d\", n)), hjust = 0.5,\n",
    "              vjust = -0.5, size = 3, check_overlap = TRUE)+\n",
    "    ylab(\"Number of missing fields\")"
   ]
  },
  {
   "cell_type": "code",
   "execution_count": 5,
   "id": "fourth-liability",
   "metadata": {
    "jupyter": {
     "source_hidden": true
    }
   },
   "outputs": [
    {
     "name": "stderr",
     "output_type": "stream",
     "text": [
      "`summarise()` has grouped output by 'Element'. You can override using the `.groups` argument.\n",
      "\n"
     ]
    },
    {
     "data": {
      "image/png": "[encoded data removed]",
      "text/plain": [
       "plot without title"
      ]
     },
     "metadata": {
      "image/png": {
       "height": 240,
       "width": 600
      }
     },
     "output_type": "display_data"
    }
   ],
   "source": [
    "# the trend for total feed and food production over the years\n",
    "options(repr.plot.width=10, repr.plot.height=4)\n",
    "fao_sel %>% \n",
    "    gather(Year, Production, Y1961:Y2013, na.rm = TRUE) %>% \n",
    "    group_by(Element,Year)%>% # to see production development for feed and food per year\n",
    "    summarise(Production = sum(Production)/1000)%>% # to get the values in million tonnes\n",
    "    mutate(Year = stringr::str_remove(Year, \"Y\")) %>%\n",
    "    ggplot(aes(Year,Production,group = Element))+  \n",
    "    geom_col(aes(fill = Element),position = \"dodge\") + # bars of food and feed next to each other\n",
    "    theme_bw()+theme(axis.text.x = element_text(size=6, angle=90),\n",
    "                     plot.title = element_text(hjust = 0.5),\n",
    "                     panel.grid = element_blank(),legend.title = element_blank())+\n",
    "    ylab( \"Production (Million Tonnes)\")+\n",
    "    ggtitle ( \"Total Food/Feed production 1961 - 2013\")\n"
   ]
  },
  {
   "cell_type": "code",
   "execution_count": 6,
   "id": "copyrighted-promise",
   "metadata": {
    "jupyter": {
     "source_hidden": true
    }
   },
   "outputs": [
    {
     "name": "stderr",
     "output_type": "stream",
     "text": [
      "`summarise()` has grouped output by 'Area_Abb'. You can override using the `.groups` argument.\n",
      "\n",
      "`summarise()` has grouped output by 'Area_Abb'. You can override using the `.groups` argument.\n",
      "\n",
      "`summarise()` has grouped output by 'Area_Abb', 'Year'. You can override using the `.groups` argument.\n",
      "\n"
     ]
    },
    {
     "data": {
      "image/png": "[encoded data removed]",
      "text/plain": [
       "plot without title"
      ]
     },
     "metadata": {
      "image/png": {
       "height": 240,
       "width": 600
      }
     },
     "output_type": "display_data"
    }
   ],
   "source": [
    "# the top 10 food producers\n",
    "topFood <- fao_gath%>%\n",
    "    filter(Element == \"Food\")  %>% # selecting the food only\n",
    "    summarise(totalprod = sum(Production)/1000)%>% # getting the total production for food\n",
    "    ungroup()%>% \n",
    "    top_n(10,totalprod)\n",
    "\n",
    "# to see the top 10 countries for food production:\n",
    "# topFood %>% select(Area_Abb,totalprod) %>% arrange(desc(totalprod)) # in millions of tonnes\n",
    "\n",
    "# using bar plot to plot top food producers:\n",
    "options(repr.plot.width=10, repr.plot.height=4)\n",
    "fao <- mutate(fao, Total=apply(fao[11:63], 1, sum, na.rm = T))\n",
    "fao <- mutate(fao, last5=apply(fao[58:63], 1, sum, na.rm = T))\n",
    "top_food1 <- fao %>% group_by(Area_Abb, Element) %>%filter(Element == 'Food')%>% \n",
    "    summarise(TFO = sum(Total)) %>% ungroup()%>%mutate(pct = prop.table(TFO)*100)%>%\n",
    "    top_n(10, wt = pct) %>% \n",
    "    ggplot(aes(x = reorder(Area_Abb, -pct), y = pct)) + \n",
    "    geom_bar(stat = 'identity', fill = \"lightgreen\", aes(color = I('black')), size = 0.1) + \n",
    "    geom_text(aes(label = sprintf(\"%.2f%%\", pct)), hjust = 0.5,\n",
    "              vjust = -0.5, size = 3)+ theme_bw()+ xlab(\"Country\") + ylab(\"Top Food production 1961 - 2013\") \n",
    "\n",
    "# line plot for the top 10 food producing countries across the years:\n",
    "    \n",
    "top_food2 <-fao_sel %>% \n",
    "    gather(Year, Production, Y1961:Y2013, na.rm = TRUE) %>% \n",
    "    group_by(Area_Abb,Year,Element) %>%\n",
    "    filter(Element == \"Food\" & Area_Abb %in% topFood$Area_Abb) %>%\n",
    "    summarise(totalprod = sum(Production)/1000) %>% \n",
    "    mutate(Year = stringr::str_remove(Year, \"Y\")) %>%\n",
    "    ggplot(aes(Year,totalprod,group = Area_Abb, color = Area_Abb))+  \n",
    "    geom_line(size = 1) +\n",
    "    ylab( \"Production (Millon Tonnes)\")+\n",
    "    theme_bw()+theme(axis.text.x = element_text(size=6, angle=90),\n",
    "               plot.title = element_text(hjust = 0.5),\n",
    "               panel.grid = element_blank(),\n",
    "              legend.title = element_blank())\n",
    "\n",
    "plot_grid(top_food1,top_food2, align = \"h\")"
   ]
  },
  {
   "cell_type": "code",
   "execution_count": 7,
   "id": "analyzed-validation",
   "metadata": {
    "jupyter": {
     "source_hidden": true
    }
   },
   "outputs": [
    {
     "name": "stderr",
     "output_type": "stream",
     "text": [
      "`summarise()` has grouped output by 'Area_Abb'. You can override using the `.groups` argument.\n",
      "\n",
      "`summarise()` has grouped output by 'Area_Abb'. You can override using the `.groups` argument.\n",
      "\n",
      "`summarise()` has grouped output by 'Area_Abb', 'Year'. You can override using the `.groups` argument.\n",
      "\n"
     ]
    },
    {
     "data": {
      "image/png": "[encoded data removed]",
      "text/plain": [
       "plot without title"
      ]
     },
     "metadata": {
      "image/png": {
       "height": 240,
       "width": 600
      }
     },
     "output_type": "display_data"
    }
   ],
   "source": [
    "# the top 10 feed producers\n",
    "topFeed <- fao_gath%>%\n",
    "    filter(Element == \"Feed\")  %>% # selecting the food only\n",
    "    summarise(totalprod = sum(Production)/1000)%>% # getting the total production for food\n",
    "    ungroup()%>% \n",
    "    top_n(10,totalprod)\n",
    "\n",
    "# to see the top 10 countries for feed production:\n",
    "# topFeed %>% select(Area_Abb,totalprod) %>% arrange(desc(totalprod))\n",
    "\n",
    "# using bar plot to plot top feed producers:\n",
    "options(repr.plot.width=10, repr.plot.height=4)\n",
    "top_feed1 <- fao %>% group_by(Area_Abb, Element) %>%filter(Element == 'Feed')%>% \n",
    "    summarise(TFO = sum(Total)) %>% ungroup()%>%mutate(pct = prop.table(TFO)*100)%>%\n",
    "    top_n(10, wt = pct) %>%\n",
    "    ggplot(aes(x = reorder(Area_Abb, -pct), y = pct)) + \n",
    "    geom_bar(stat = 'identity', fill = \"lightgreen\", aes(color = I('black')), size = 0.1) + \n",
    "    geom_text(aes(label = sprintf(\"%.2f%%\", pct)), hjust = 0.5,\n",
    "              vjust = -0.5, size = 3)+ theme_bw()+ xlab(\"Country\") + ylab(\"Top Feed production 1961 - 2013\")\n",
    "\n",
    "top_feed2 <-fao_sel %>% \n",
    "    gather(Year, Production, Y1961:Y2013, na.rm = TRUE) %>% \n",
    "    group_by(Area_Abb,Year,Element) %>%\n",
    "    filter(Element == \"Feed\" & Area_Abb %in% topFeed$Area_Abb) %>%\n",
    "    summarise(totalprod = sum(Production)/1000) %>% \n",
    "    ggplot(aes(Year,totalprod,group = Area_Abb, color = Area_Abb))+  \n",
    "    geom_line(size = 1) +\n",
    "    ylab( \"Production (Millon Tonnes)\")+\n",
    "    theme_bw()+theme(axis.text.x = element_text(size=6, angle=90),\n",
    "                     plot.title = element_text(hjust = 0.5),\n",
    "                     panel.grid = element_blank(),\n",
    "                     legend.title = element_blank())\n",
    "\n",
    "plot_grid(top_feed1,top_feed2, align = \"h\")"
   ]
  },
  {
   "cell_type": "code",
   "execution_count": 8,
   "id": "excessive-daniel",
   "metadata": {
    "jupyter": {
     "source_hidden": true
    }
   },
   "outputs": [
    {
     "name": "stderr",
     "output_type": "stream",
     "text": [
      "`summarise()` has grouped output by 'Area_Abb', 'Year'. You can override using the `.groups` argument.\n",
      "\n",
      "`summarise()` has grouped output by 'Year'. You can override using the `.groups` argument.\n",
      "\n",
      "`summarise()` has grouped output by 'Item', 'Year'. You can override using the `.groups` argument.\n",
      "\n"
     ]
    },
    {
     "data": {
      "image/png": "[encoded data removed]",
      "text/plain": [
       "plot without title"
      ]
     },
     "metadata": {
      "image/png": {
       "height": 240,
       "width": 600
      }
     },
     "output_type": "display_data"
    },
    {
     "data": {
      "image/png": "[encoded data removed]",
      "text/plain": [
       "plot without title"
      ]
     },
     "metadata": {
      "image/png": {
       "height": 240,
       "width": 600
      }
     },
     "output_type": "display_data"
    }
   ],
   "source": [
    "# Top 10 food and feed items becoming more popular over the years ----\n",
    "# converting year values from character strings to integers\n",
    "fao_gath$Year <- str_replace(fao_gath$Year, \"[Y]\", \"\")\n",
    "fao_gath$Year <- as.integer(fao_gath$Year)\n",
    "# amount of food and feed produced per year\n",
    "yearlyProdTotals <- fao_gath %>%\n",
    "    group_by(Area_Abb, Year, Element) %>%\n",
    "    summarise(\n",
    "        element_total = sum(Production, na.rm=TRUE)\n",
    "    )  %>%\n",
    "    group_by(Year, Element) %>%\n",
    "    summarise(\n",
    "        total_prod = sum(element_total, na.rm=TRUE)\n",
    "    )\n",
    "#  total amount for each item food and feed per year\n",
    "itemTotals <- fao_gath %>%\n",
    "    group_by(Item, Year, Element) %>%\n",
    "    summarise(\n",
    "        element_total = sum(Production, na.rm=TRUE)\n",
    "    )\n",
    "# join itemTotals and yealyProdTotals\n",
    "itemComp <- left_join(itemTotals, yearlyProdTotals, by = c(\"Year\", \"Element\"))\n",
    "# percentage for each item\n",
    "itemComp <- itemComp %>%\n",
    "    mutate(\n",
    "        percent_of_total = 100*(element_total/total_prod)\n",
    "    )\n",
    "# create percentage distribution for 1061 and 2013\n",
    "itemPct2013 <- (itemComp %>%\n",
    "                    filter(Year == 2013, Element == \"Food\"))[, c(\"Item\", \"percent_of_total\")]\n",
    "itemPct1961 <- (itemComp %>%\n",
    "                    filter(Year == 1961, Element == \"Food\"))[, c(\"Item\", \"percent_of_total\")]\n",
    "# calculate change from 1961 to 2013\n",
    "itemPctChange <- itemPct1961\n",
    "itemPctChange$percent_of_total <- itemPct2013$percent_of_total - itemPct1961$percent_of_total\n",
    "# plot top 10 items increased in market share from 1961 to 2013\n",
    "item_ord <- arrange(itemPctChange, desc(percent_of_total))\n",
    "item_top10 <- item_ord[1:10,]\n",
    "item_low10 <- item_ord[105:115,]\n",
    "item_top10 %>%\n",
    "    ggplot() +\n",
    "    geom_bar(aes(x = reorder(Item, percent_of_total, sum), y = percent_of_total, fill = percent_of_total), stat = \"identity\") +\n",
    "    theme(text = element_text(size=6)) +\n",
    "    xlab(\"Items\") +\n",
    "    ylab(\"Percentage Increase in Market Share\") +\n",
    "    ggtitle(label = \"Top Ten Increases in Item Market Share from 1961 to 2013\") +\n",
    "    guides(fill = FALSE) +\n",
    "    coord_flip()\n",
    "# plot top 10 items decreased in market share from 1961 to 2013\n",
    "item_low10 %>%\n",
    "    ggplot() +\n",
    "    geom_bar(aes(x = reorder(Item, percent_of_total, sum), y = percent_of_total, fill = percent_of_total), stat = \"identity\") +\n",
    "    theme(text = element_text(size=6)) +\n",
    "    xlab(\"Items\") +\n",
    "    ylab(\"Percent Decreasee in Market Share\") +\n",
    "    ggtitle(\"Top Ten Decreases in Item Market Share from 1961 to 2013\") +\n",
    "    guides(fill = FALSE) +\n",
    "    coord_flip()\n"
   ]
  },
  {
   "cell_type": "code",
   "execution_count": 12,
   "id": "protecting-cannon",
   "metadata": {
    "jupyter": {
     "source_hidden": true
    }
   },
   "outputs": [
    {
     "data": {
      "image/png": "[encoded data removed]",
      "text/plain": [
       "Plot with title \"Forecast of the Food production by 2050\""
      ]
     },
     "metadata": {
      "image/png": {
       "height": 240,
       "width": 600
      }
     },
     "output_type": "display_data"
    }
   ],
   "source": [
    "fao[is.na(fao)] <- 0\n",
    "fao_reduced <- fao[fao$Element == 'Food', ]\n",
    "long_data <- fao_reduced %>% gather(Year, Production, Y1961:Y2013)\n",
    "forecast_data <- long_data %>% \n",
    "    group_by(Year) %>% \n",
    "    summarise(sum_production = sum(Production)/1000)\n",
    "\n",
    "forecast_data_ts <- ts(forecast_data$sum_production, start = 1961, end = 2013, frequency = 1)\n",
    "\n",
    "\n",
    "# Automated forecasting using an exponential model\n",
    "fit <-  forecast(forecast_data_ts, h = 37, level = c(80,95)) # h - number of periods for forecasting\n",
    "#level - confidence level for prediction intervals.\n",
    "plot(forecast(forecast_data_ts, h = 37), main = 'Forecast of the Food production by 2050', xlab = 'Year', ylab = 'Food priduction, million tonnes')\n"
   ]
  },
  {
   "cell_type": "markdown",
   "id": "normal-parameter",
   "metadata": {},
   "source": [
    "# Appendix"
   ]
  },
  {
   "cell_type": "code",
   "execution_count": null,
   "id": "chemical-george",
   "metadata": {},
   "outputs": [],
   "source": [
    "# loading needed libraries:\n",
    "\n",
    "library(ggplot2)\n",
    "library(dplyr)\n",
    "library(tidyr)\n",
    "library(stringr)\n",
    "library(tibble)\n",
    "library(forcats)\n",
    "library(sp)\n",
    "library(rworldmap)\n",
    "library(cowplot)\n",
    "library(forecast)\n",
    "\n",
    "# doing some modifications for better data handeling\n",
    "\n",
    "colnames(fao)[1] <- \"Area_Abb\"\n",
    "colnames(fao)[2] <- \"Area_Code\"\n",
    "colnames(fao)[3] <- \"Area\"\n",
    "colnames(fao)[4] <- \"Item_Code\"\n",
    "colnames(fao)[5] <- \"Item\"\n",
    "colnames(fao)[6] <- \"Element_Code\"\n",
    "colnames(fao)[7] <- \"Element\"\n",
    "\n",
    "# selecting the most important variables:\n",
    "fao_sel <- fao[,-c(2,4,6,8,9,10)]\n",
    "\n",
    "# to make sense of the values for each year\n",
    "fao_gath <- fao_sel %>% \n",
    "    gather(Year, Production, Y1961:Y2013, na.rm = TRUE) %>% \n",
    "    group_by(Area_Abb,Element) %>%\n",
    "    mutate(Year = stringr::str_remove(Year, \"Y\"))\n",
    "\n",
    "# to see how many missing values there are in each year:\n",
    "fao_sel %>% \n",
    "    gather(Year, Production, Y1961:Y2013) %>% \n",
    "    filter(is.na(Production)) %>% \n",
    "    group_by(Year)%>% tally() %>%\n",
    "    mutate(Year = stringr::str_remove(Year, \"Y\")) %>%\n",
    "    ggplot(aes(Year,n))+\n",
    "    geom_col(fill = \"lightgreen\")+\n",
    "    theme(axis.text.x = element_text(size=6, angle=90),\n",
    "          panel.background = element_blank())+\n",
    "    geom_text(aes(label = sprintf(\"%d\", n)), hjust = 0.5,\n",
    "              vjust = -0.5, size = 3, check_overlap = TRUE)+\n",
    "    ylab(\"Number of missing fields\")\n",
    "\n",
    "# the trend for total feed and food production over the years\n",
    "options(repr.plot.width=10, repr.plot.height=4)\n",
    "fao_sel %>% \n",
    "    gather(Year, Production, Y1961:Y2013, na.rm = TRUE) %>% \n",
    "    group_by(Element,Year)%>% # to see production development for feed and food per year\n",
    "    summarise(Production = sum(Production)/1000)%>% # to get the values in million tonnes\n",
    "    mutate(Year = stringr::str_remove(Year, \"Y\")) %>%\n",
    "    ggplot(aes(Year,Production,group = Element))+  \n",
    "    geom_col(aes(fill = Element),position = \"dodge\") + # bars of food and feed next to each other\n",
    "    theme_bw()+theme(axis.text.x = element_text(size=6, angle=90),\n",
    "                     plot.title = element_text(hjust = 0.5),\n",
    "                     panel.grid = element_blank(),legend.title = element_blank())+\n",
    "    ylab( \"Production (Million Tonnes)\")+\n",
    "    ggtitle ( \"Total Food/Feed production 1961 - 2013\")\n",
    "\n",
    "# the top 10 food producers\n",
    "topFood <- fao_gath%>%\n",
    "    filter(Element == \"Food\")  %>% # selecting the food only\n",
    "    summarise(totalprod = sum(Production)/1000)%>% # getting the total production for food\n",
    "    ungroup()%>% \n",
    "    top_n(10,totalprod)\n",
    "\n",
    "# to see the top 10 countries for food production:\n",
    "topFood %>% select(Area_Abb,totalprod) %>% arrange(desc(totalprod)) # in millions of tonnes\n",
    "\n",
    "# using bar plot to plot top food producers:\n",
    "options(repr.plot.width=10, repr.plot.height=4)\n",
    "fao <- mutate(fao, Total=apply(fao[11:63], 1, sum, na.rm = T))\n",
    "fao <- mutate(fao, last5=apply(fao[58:63], 1, sum, na.rm = T))\n",
    "top_food1 <- fao %>% group_by(Area_Abb, Element) %>%filter(Element == 'Food')%>% \n",
    "    summarise(TFO = sum(Total)) %>% ungroup()%>%mutate(pct = prop.table(TFO)*100)%>%\n",
    "    top_n(10, wt = pct) %>% \n",
    "    ggplot(aes(x = reorder(Area_Abb, -pct), y = pct)) + \n",
    "    geom_bar(stat = 'identity', fill = \"lightgreen\", aes(color = I('black')), size = 0.1) + \n",
    "    geom_text(aes(label = sprintf(\"%.2f%%\", pct)), hjust = 0.5,\n",
    "              vjust = -0.5, size = 3)+ theme_bw()+ xlab(\"Country\") + ylab(\"Top Food production 1961 - 2013\") \n",
    "\n",
    "# line plot for the top 10 food producing countries across the years:\n",
    "top_food2 <-fao_sel %>% \n",
    "    gather(Year, Production, Y1961:Y2013, na.rm = TRUE) %>% \n",
    "    group_by(Area_Abb,Year,Element) %>%\n",
    "    filter(Element == \"Food\" & Area_Abb %in% topFood$Area_Abb) %>%\n",
    "    summarise(totalprod = sum(Production)/1000) %>% \n",
    "    mutate(Year = stringr::str_remove(Year, \"Y\")) %>%\n",
    "    ggplot(aes(Year,totalprod,group = Area_Abb, color = Area_Abb))+  \n",
    "    geom_line(size = 1) +\n",
    "    ylab( \"Production (Millon Tonnes)\")+\n",
    "    theme_bw()+theme(axis.text.x = element_text(size=6, angle=90),\n",
    "               plot.title = element_text(hjust = 0.5),\n",
    "               panel.grid = element_blank(),\n",
    "              legend.title = element_blank())\n",
    "\n",
    "plot_grid(top_food1,top_food2, align = \"h\")\n",
    "\n",
    "# the top 10 feed producers\n",
    "topFeed <- fao_gath%>%\n",
    "    filter(Element == \"Feed\")  %>% # selecting the food only\n",
    "    summarise(totalprod = sum(Production)/1000)%>% # getting the total production for food\n",
    "    ungroup()%>% \n",
    "    top_n(10,totalprod)\n",
    "\n",
    "# to see the top 10 countries for feed production:\n",
    "topFeed %>% select(Area_Abb,totalprod) %>% arrange(desc(totalprod))\n",
    "\n",
    "# using bar plot to plot top feed producers:\n",
    "options(repr.plot.width=10, repr.plot.height=4)\n",
    "top_feed1 <- fao %>% group_by(Area_Abb, Element) %>%filter(Element == 'Feed')%>% \n",
    "    summarise(TFO = sum(Total)) %>% ungroup()%>%mutate(pct = prop.table(TFO)*100)%>%\n",
    "    top_n(10, wt = pct) %>%\n",
    "    ggplot(aes(x = reorder(Area_Abb, -pct), y = pct)) + \n",
    "    geom_bar(stat = 'identity', fill = \"lightgreen\", aes(color = I('black')), size = 0.1) + \n",
    "    geom_text(aes(label = sprintf(\"%.2f%%\", pct)), hjust = 0.5,\n",
    "              vjust = -0.5, size = 3)+ theme_bw()+ xlab(\"Country\") + ylab(\"Top Feed production 1961 - 2013\")\n",
    "\n",
    "# line plot for the top 10 feed producing countries across the years:\n",
    "top_feed2 <-fao_sel %>% \n",
    "    gather(Year, Production, Y1961:Y2013, na.rm = TRUE) %>% \n",
    "    group_by(Area_Abb,Year,Element) %>%\n",
    "    filter(Element == \"Feed\" & Area_Abb %in% topFeed$Area_Abb) %>%\n",
    "    summarise(totalprod = sum(Production)/1000) %>% \n",
    "    ggplot(aes(Year,totalprod,group = Area_Abb, color = Area_Abb))+  \n",
    "    geom_line(size = 1) +\n",
    "    ylab( \"Production (Millon Tonnes)\")+\n",
    "    theme_bw()+theme(axis.text.x = element_text(size=6, angle=90),\n",
    "                     plot.title = element_text(hjust = 0.5),\n",
    "                     panel.grid = element_blank(),\n",
    "                     legend.title = element_blank())\n",
    "\n",
    "plot_grid(top_feed1,top_feed2, align = \"h\")\n",
    "\n",
    "# Top 10 food and feed items becoming more popular over the years ----\n",
    "# converting year values from character strings to integers\n",
    "fao_gath$Year <- str_replace(fao_gath$Year, \"[Y]\", \"\")\n",
    "fao_gath$Year <- as.integer(fao_gath$Year)\n",
    "# amount of food and feed produced per year\n",
    "yearlyProdTotals <- fao_gath %>%\n",
    "    group_by(Area_Abb, Year, Element) %>%\n",
    "    summarise(\n",
    "        element_total = sum(Production, na.rm=TRUE)\n",
    "    )  %>%\n",
    "    group_by(Year, Element) %>%\n",
    "    summarise(\n",
    "        total_prod = sum(element_total, na.rm=TRUE)\n",
    "    )\n",
    "#  total amount for each item food and feed per year\n",
    "itemTotals <- fao_gath %>%\n",
    "    group_by(Item, Year, Element) %>%\n",
    "    summarise(\n",
    "        element_total = sum(Production, na.rm=TRUE)\n",
    "    )\n",
    "# join itemTotals and yealyProdTotals\n",
    "itemComp <- left_join(itemTotals, yearlyProdTotals, by = c(\"Year\", \"Element\"))\n",
    "# percentage for each item\n",
    "itemComp <- itemComp %>%\n",
    "    mutate(\n",
    "        percent_of_total = 100*(element_total/total_prod)\n",
    "    )\n",
    "# create percentage distribution for 1061 and 2013\n",
    "itemPct2013 <- (itemComp %>%\n",
    "                    filter(Year == 2013, Element == \"Food\"))[, c(\"Item\", \"percent_of_total\")]\n",
    "itemPct1961 <- (itemComp %>%\n",
    "                    filter(Year == 1961, Element == \"Food\"))[, c(\"Item\", \"percent_of_total\")]\n",
    "# calculate change from 1961 to 2013\n",
    "itemPctChange <- itemPct1961\n",
    "itemPctChange$percent_of_total <- itemPct2013$percent_of_total - itemPct1961$percent_of_total\n",
    "# plot top 10 items increased in market share from 1961 to 2013\n",
    "item_ord <- arrange(itemPctChange, desc(percent_of_total))\n",
    "item_top10 <- item_ord[1:10,]\n",
    "item_low10 <- item_ord[105:115,]\n",
    "item_top10 %>%\n",
    "    ggplot() +\n",
    "    geom_bar(aes(x = reorder(Item, percent_of_total, sum), y = percent_of_total, fill = percent_of_total), stat = \"identity\") +\n",
    "    theme(text = element_text(size=6)) +\n",
    "    xlab(\"Items\") +\n",
    "    ylab(\"Percentage Increase in Market Share\") +\n",
    "    ggtitle(label = \"Top Ten Increases in Item Market Share from 1961 to 2013\") +\n",
    "    guides(fill = FALSE) +\n",
    "    coord_flip()\n",
    "# plot top 10 items decreased in market share from 1961 to 2013\n",
    "item_low10 %>%\n",
    "    ggplot() +\n",
    "    geom_bar(aes(x = reorder(Item, percent_of_total, sum), y = percent_of_total, fill = percent_of_total), stat = \"identity\") +\n",
    "    theme(text = element_text(size=6)) +\n",
    "    xlab(\"Items\") +\n",
    "    ylab(\"Percent Decreasee in Market Share\") +\n",
    "    ggtitle(\"Top Ten Decreases in Item Market Share from 1961 to 2013\") +\n",
    "    guides(fill = FALSE) +\n",
    "    coord_flip()\n",
    "\n",
    "# Forcasting to reflect on the coming years\n",
    "fao[is.na(fao)] <- 0\n",
    "fao_reduced <- fao[fao$Element == 'Food', ]\n",
    "long_data <- fao_reduced %>% gather(Year, Production, Y1961:Y2013)\n",
    "forecast_data <- long_data %>% \n",
    "    group_by(Year) %>% \n",
    "    summarise(sum_production = sum(Production)/1000)\n",
    "\n",
    "forecast_data_ts <- ts(forecast_data$sum_production, start = 1961, end = 2013, frequency = 1)\n",
    "\n",
    "\n",
    "# Automated forecasting using an exponential model\n",
    "fit <-  forecast(forecast_data_ts, h = 37, level = c(80,95)) # h - number of periods for forecasting\n",
    "#level - confidence level for prediction intervals.\n",
    "plot(forecast(forecast_data_ts, h = 37), main = 'Forecast of the Food production by 2050', xlab = 'Year', ylab = 'Food priduction, million tonnes')\n"
   ]
  }
 ],
 "metadata": {
  "celltoolbar": "Edit Metadata",
  "kernelspec": {
   "display_name": "R",
   "language": "R",
   "name": "ir"
  },
  "language_info": {
   "codemirror_mode": "r",
   "file_extension": ".r",
   "mimetype": "text/x-r-source",
   "name": "R",
   "pygments_lexer": "r",
   "version": "3.6.3"
  },
  "toc-autonumbering": false
 },
 "nbformat": 4,
 "nbformat_minor": 5
}
